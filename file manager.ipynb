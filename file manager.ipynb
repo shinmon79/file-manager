{
 "cells": [
  {
   "cell_type": "code",
   "execution_count": 1,
   "id": "1314ca15-eed8-42a6-a5ac-1a1ea11dc84f",
   "metadata": {},
   "outputs": [],
   "source": [
    "import os, shutil\n"
   ]
  },
  {
   "cell_type": "code",
   "execution_count": 11,
   "id": "954ad800-0172-476f-a060-175e69e52cae",
   "metadata": {},
   "outputs": [],
   "source": [
    "path =  r\"D:/file manager/\""
   ]
  },
  {
   "cell_type": "code",
   "execution_count": 12,
   "id": "983b4f30-8e8c-4ee6-a0c4-8313dbe49610",
   "metadata": {},
   "outputs": [
    {
     "data": {
      "text/plain": [
       "['1118743.jpg', 'jakes-resume.docx', 'wp5684445.jpg']"
      ]
     },
     "execution_count": 12,
     "metadata": {},
     "output_type": "execute_result"
    }
   ],
   "source": [
    "os.listdir(path)"
   ]
  },
  {
   "cell_type": "code",
   "execution_count": 18,
   "id": "82942169-8520-4362-921c-bf863fc7f8b9",
   "metadata": {},
   "outputs": [],
   "source": [
    "folder_name = [ 'docx files' , 'img files']\n",
    "for loop in range(0,2):\n",
    "    if not os.path.exists(path+ folder_name[loop]):\n",
    "        os.mkdir(path+ folder_name[loop])"
   ]
  },
  {
   "cell_type": "code",
   "execution_count": 19,
   "id": "6fe1720c-581d-4e48-8b69-7c7db4421185",
   "metadata": {},
   "outputs": [],
   "source": [
    "file_name = os.listdir(path)"
   ]
  },
  {
   "cell_type": "code",
   "execution_count": 27,
   "id": "36ac2923-2cc2-40ac-a59e-9b28d2d2f31d",
   "metadata": {},
   "outputs": [],
   "source": [
    "for file in file_name:\n",
    "    if \".docx\" in file and not   os.path.exists(path+ \"docx files/\" + file):\n",
    "        shutil.move(path + file , path+ \"docx files/\" + file )\n",
    "    elif \".jpg\" in file and not   os.path.exists(path+ \"img files/\" + file):\n",
    "        shutil.move(path + file , path+ \"img files/\" + file )  \n",
    "    "
   ]
  },
  {
   "cell_type": "code",
   "execution_count": null,
   "id": "8befe212-3286-404a-a7c3-248da17324bb",
   "metadata": {},
   "outputs": [],
   "source": []
  }
 ],
 "metadata": {
  "kernelspec": {
   "display_name": "Python 3 (ipykernel)",
   "language": "python",
   "name": "python3"
  },
  "language_info": {
   "codemirror_mode": {
    "name": "ipython",
    "version": 3
   },
   "file_extension": ".py",
   "mimetype": "text/x-python",
   "name": "python",
   "nbconvert_exporter": "python",
   "pygments_lexer": "ipython3",
   "version": "3.12.2"
  }
 },
 "nbformat": 4,
 "nbformat_minor": 5
}
